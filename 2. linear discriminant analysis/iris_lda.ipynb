{
 "cells": [
  {
   "cell_type": "code",
   "execution_count": 2,
   "id": "2224a65d",
   "metadata": {},
   "outputs": [],
   "source": [
    "#1. apriori\n",
    "apriori <- function(df, class_col, class_name) {\n",
    "  class_count <- sum(df[, class_col] == class_name)\n",
    "  total_count <- nrow(df)\n",
    "  return (class_count / total_count)\n",
    "}"
   ]
  },
  {
   "cell_type": "code",
   "execution_count": 3,
   "id": "043dd76f",
   "metadata": {},
   "outputs": [
    {
     "data": {
      "text/html": [
       "0.333333333333333"
      ],
      "text/latex": [
       "0.333333333333333"
      ],
      "text/markdown": [
       "0.333333333333333"
      ],
      "text/plain": [
       "[1] 0.3333333"
      ]
     },
     "metadata": {},
     "output_type": "display_data"
    }
   ],
   "source": [
    "apriori(iris, 'Species','setosa')\n"
   ]
  },
  {
   "cell_type": "code",
   "execution_count": 4,
   "id": "aa2d7dca",
   "metadata": {},
   "outputs": [],
   "source": [
    "#2. estimación media\n",
    "\n",
    "media <- function(df, class_col, variable_list, class_name) {\n",
    "    df_interes = df[df[, class_col] == class_name,]\n",
    "    \n",
    "    tamanio_df_interes = nrow(df_interes)\n",
    "    \n",
    "    res_vect = c()\n",
    "    cont = 0\n",
    "    for(i in variable_list){\n",
    "        cont = cont + 1\n",
    "        res_vect[cont] = sum(df_interes[,i]) / tamanio_df_interes\n",
    "        \n",
    "        \n",
    "    }\n",
    "    \n",
    "    return(res_vect)}"
   ]
  },
  {
   "cell_type": "code",
   "execution_count": 5,
   "id": "16af9b49",
   "metadata": {},
   "outputs": [
    {
     "data": {
      "text/html": [
       "<ol class=list-inline>\n",
       "\t<li>5.006</li>\n",
       "\t<li>3.428</li>\n",
       "\t<li>1.462</li>\n",
       "\t<li>0.246</li>\n",
       "</ol>\n"
      ],
      "text/latex": [
       "\\begin{enumerate*}\n",
       "\\item 5.006\n",
       "\\item 3.428\n",
       "\\item 1.462\n",
       "\\item 0.246\n",
       "\\end{enumerate*}\n"
      ],
      "text/markdown": [
       "1. 5.006\n",
       "2. 3.428\n",
       "3. 1.462\n",
       "4. 0.246\n",
       "\n",
       "\n"
      ],
      "text/plain": [
       "[1] 5.006 3.428 1.462 0.246"
      ]
     },
     "metadata": {},
     "output_type": "display_data"
    }
   ],
   "source": [
    "media(iris, 'Species', c('Sepal.Length','Sepal.Width','Petal.Length','Petal.Width'), 'setosa')\n"
   ]
  },
  {
   "cell_type": "code",
   "execution_count": 6,
   "id": "adf491a1",
   "metadata": {},
   "outputs": [],
   "source": [
    "var.covar <- function(df, variable_list, class_col) {\n",
    "    \n",
    "    classes=unique(df[, class_col])\n",
    "    num_classes=length(classes)\n",
    "    num_variables=length(variable_list)\n",
    "    tamanio_df=nrow(df)\n",
    "    \n",
    "    covariance_matrix=matrix(0, nrow=num_variables,ncol=num_variables)\n",
    "        \n",
    "    for(class in classes){\n",
    "        df_interes=df[df[, class_col] == class,]\n",
    "        tamanio_df_interes=nrow(df_interes)\n",
    "        \n",
    "        cont=1\n",
    "        for(variable in variable_list) {\n",
    "            prmd=sum(df_interes[,variable]) / tamanio_df_interes\n",
    "            covariance_matrix[cont,cont] = covariance_matrix[cont,cont] + sum((df_interes[,variable]-prmd)^2)/(tamanio_df-num_classes)\n",
    "            cont = cont+1\n",
    "        }\n",
    "        \n",
    "    }\n",
    "    return(covariance_matrix)\n",
    "}"
   ]
  },
  {
   "cell_type": "code",
   "execution_count": 7,
   "id": "555ae5e4",
   "metadata": {},
   "outputs": [
    {
     "data": {
      "text/html": [
       "<table>\n",
       "<tbody>\n",
       "\t<tr><td>0.2650082 </td><td>0.0000000 </td><td>0.0000000 </td><td>0.00000000</td></tr>\n",
       "\t<tr><td>0.0000000 </td><td>0.1153878 </td><td>0.0000000 </td><td>0.00000000</td></tr>\n",
       "\t<tr><td>0.0000000 </td><td>0.0000000 </td><td>0.1851878 </td><td>0.00000000</td></tr>\n",
       "\t<tr><td>0.0000000 </td><td>0.0000000 </td><td>0.0000000 </td><td>0.04188163</td></tr>\n",
       "</tbody>\n",
       "</table>\n"
      ],
      "text/latex": [
       "\\begin{tabular}{llll}\n",
       "\t 0.2650082  & 0.0000000  & 0.0000000  & 0.00000000\\\\\n",
       "\t 0.0000000  & 0.1153878  & 0.0000000  & 0.00000000\\\\\n",
       "\t 0.0000000  & 0.0000000  & 0.1851878  & 0.00000000\\\\\n",
       "\t 0.0000000  & 0.0000000  & 0.0000000  & 0.04188163\\\\\n",
       "\\end{tabular}\n"
      ],
      "text/markdown": [
       "\n",
       "| 0.2650082  | 0.0000000  | 0.0000000  | 0.00000000 |\n",
       "| 0.0000000  | 0.1153878  | 0.0000000  | 0.00000000 |\n",
       "| 0.0000000  | 0.0000000  | 0.1851878  | 0.00000000 |\n",
       "| 0.0000000  | 0.0000000  | 0.0000000  | 0.04188163 |\n",
       "\n"
      ],
      "text/plain": [
       "     [,1]      [,2]      [,3]      [,4]      \n",
       "[1,] 0.2650082 0.0000000 0.0000000 0.00000000\n",
       "[2,] 0.0000000 0.1153878 0.0000000 0.00000000\n",
       "[3,] 0.0000000 0.0000000 0.1851878 0.00000000\n",
       "[4,] 0.0000000 0.0000000 0.0000000 0.04188163"
      ]
     },
     "metadata": {},
     "output_type": "display_data"
    }
   ],
   "source": [
    "var.covar(iris,c('Sepal.Length','Sepal.Width','Petal.Length','Petal.Width'),\"Species\")\n"
   ]
  },
  {
   "cell_type": "code",
   "execution_count": 8,
   "id": "0159da78",
   "metadata": {},
   "outputs": [],
   "source": [
    "delta <- function(vector_x, apriori, medias, matriz_cov) {\n",
    "    \n",
    "    return(t(vector_x)%*%solve(matriz_cov)%*%medias-.5*t(medias)%*%solve(matriz_cov)%*%medias+log(apriori))\n",
    "    \n",
    "}"
   ]
  },
  {
   "cell_type": "code",
   "execution_count": 9,
   "id": "8ae3c8e6",
   "metadata": {},
   "outputs": [
    {
     "data": {
      "text/html": [
       "<table>\n",
       "<tbody>\n",
       "\t<tr><td>211.5851</td></tr>\n",
       "</tbody>\n",
       "</table>\n"
      ],
      "text/latex": [
       "\\begin{tabular}{l}\n",
       "\t 211.5851\\\\\n",
       "\\end{tabular}\n"
      ],
      "text/markdown": [
       "\n",
       "| 211.5851 |\n",
       "\n"
      ],
      "text/plain": [
       "     [,1]    \n",
       "[1,] 211.5851"
      ]
     },
     "metadata": {},
     "output_type": "display_data"
    }
   ],
   "source": [
    "vec=as.numeric(iris[51,1:4])\n",
    "delta(vec, apriori(iris, 'Species','virginica'), media(iris, 'Species', c('Sepal.Length','Sepal.Width','Petal.Length','Petal.Width'), 'virginica'),var.covar(iris,c('Sepal.Length','Sepal.Width','Petal.Length','Petal.Width'),\"Species\"))\n",
    "     \n"
   ]
  },
  {
   "cell_type": "code",
   "execution_count": 10,
   "id": "c145b26c",
   "metadata": {},
   "outputs": [],
   "source": [
    "clasifica <- function(vector_x, param_clases, matriz_cov) {\n",
    "    max_delta=-Inf\n",
    "    clase_var=\"e e e\"\n",
    "    \n",
    "    for(i in 1:length(param_clases)) {\n",
    "        clase=param_clases[i]\n",
    "        delta_valor= delta(vector_x, param_clases[[i]][[1]], param_clases[[i]][[2]], matriz_cov)\n",
    "        if(delta_valor>max_delta){\n",
    "            max_delta=delta_valor\n",
    "            clase_var=i\n",
    "        }\n",
    "    }    \n",
    "    return(clase_var)\n",
    "}\n",
    "     "
   ]
  },
  {
   "cell_type": "code",
   "execution_count": 11,
   "id": "242df33c",
   "metadata": {},
   "outputs": [
    {
     "data": {
      "text/html": [
       "1"
      ],
      "text/latex": [
       "1"
      ],
      "text/markdown": [
       "1"
      ],
      "text/plain": [
       "[1] 1"
      ]
     },
     "metadata": {},
     "output_type": "display_data"
    }
   ],
   "source": [
    "vec=as.numeric(iris[48,1:4])\n",
    "lista_clases = list(setosa=list(apriori=apriori(iris, 'Species','setosa'),medias=media(iris, 'Species', c('Sepal.Length','Sepal.Width','Petal.Length','Petal.Width'), 'setosa')), versicolor=list(apriori=apriori(iris, 'Species','versicolor'),medias=media(iris, 'Species', c('Sepal.Length','Sepal.Width','Petal.Length','Petal.Width'), 'versicolor')),virginica=list(apriori=apriori(iris, 'Species','virginica'),medias=media(iris, 'Species', c('Sepal.Length','Sepal.Width','Petal.Length','Petal.Width'), 'virginica')))\n",
    "covar=var.covar(iris,c('Sepal.Length','Sepal.Width','Petal.Length','Petal.Width'),\"Species\")\n",
    "clasifica(vec,lista_clases,covar)"
   ]
  },
  {
   "cell_type": "code",
   "execution_count": 12,
   "id": "ab5e554a",
   "metadata": {
    "scrolled": true
   },
   "outputs": [
    {
     "data": {
      "text/plain": [
       "  Sepal.Length    Sepal.Width     Petal.Length    Petal.Width   \n",
       " Min.   :4.300   Min.   :2.000   Min.   :1.000   Min.   :0.100  \n",
       " 1st Qu.:5.100   1st Qu.:2.800   1st Qu.:1.500   1st Qu.:0.300  \n",
       " Median :5.800   Median :3.000   Median :4.450   Median :1.300  \n",
       " Mean   :5.848   Mean   :3.053   Mean   :3.741   Mean   :1.208  \n",
       " 3rd Qu.:6.400   3rd Qu.:3.225   3rd Qu.:5.100   3rd Qu.:1.800  \n",
       " Max.   :7.900   Max.   :4.400   Max.   :6.900   Max.   :2.500  \n",
       "       Species  \n",
       " setosa    :40  \n",
       " versicolor:39  \n",
       " virginica :41  \n",
       "                \n",
       "                \n",
       "                "
      ]
     },
     "metadata": {},
     "output_type": "display_data"
    }
   ],
   "source": [
    "iris.df <- data.frame(iris)\n",
    "training.index <- sample(1:nrow(iris.df), nrow(iris) * 0.8, replace = FALSE)\n",
    "training.data <-iris[training.index, ] # muestra aleatoria del 80% para entrenar el modelo\n",
    "test.data <-iris[-training.index, ] #muestra aletoria del 20% para testear \n",
    "summary(training.data) "
   ]
  },
  {
   "cell_type": "code",
   "execution_count": 13,
   "id": "189dd4ae",
   "metadata": {},
   "outputs": [
    {
     "data": {
      "text/plain": [
       "  Sepal.Length    Sepal.Width     Petal.Length    Petal.Width   \n",
       " Min.   :4.800   Min.   :2.200   Min.   :1.300   Min.   :0.100  \n",
       " 1st Qu.:5.100   1st Qu.:2.700   1st Qu.:1.750   1st Qu.:0.325  \n",
       " Median :5.700   Median :3.050   Median :4.100   Median :1.300  \n",
       " Mean   :5.827   Mean   :3.077   Mean   :3.827   Mean   :1.167  \n",
       " 3rd Qu.:6.450   3rd Qu.:3.400   3rd Qu.:5.450   3rd Qu.:1.500  \n",
       " Max.   :7.700   Max.   :3.800   Max.   :6.700   Max.   :2.500  \n",
       "       Species  \n",
       " setosa    :10  \n",
       " versicolor:11  \n",
       " virginica : 9  \n",
       "                \n",
       "                \n",
       "                "
      ]
     },
     "metadata": {},
     "output_type": "display_data"
    }
   ],
   "source": [
    "summary(test.data)"
   ]
  },
  {
   "cell_type": "code",
   "execution_count": 14,
   "id": "72e3bb8d",
   "metadata": {},
   "outputs": [
    {
     "data": {
      "text/html": [
       "1"
      ],
      "text/latex": [
       "1"
      ],
      "text/markdown": [
       "1"
      ],
      "text/plain": [
       "[1] 1"
      ]
     },
     "metadata": {},
     "output_type": "display_data"
    }
   ],
   "source": [
    "test <- as.numeric(test.data[1,1:4])\n",
    "clasifica(test,lista_clases,covar)"
   ]
  },
  {
   "cell_type": "code",
   "execution_count": 22,
   "id": "eddf28f4",
   "metadata": {},
   "outputs": [],
   "source": [
    "aciertos= 0\n",
    "fallos= 0\n",
    "for (i in 1:nrow(training.data)){\n",
    "    tra <- as.numeric(training.data[i,1:4]) \n",
    "    resp=clasifica(tra,lista_clases,covar)\n",
    "    if(training.data[i,5]=='setosa'){\n",
    "        aux=1\n",
    "    }\n",
    "    if(training.data[i,5]=='versicolor'){\n",
    "        aux=2\n",
    "    }\n",
    "    if(training.data[i,5]=='virginica'){\n",
    "        aux=3\n",
    "    }\n",
    "    if(resp==aux){\n",
    "        aciertos= aciertos+1\n",
    "    }\n",
    "    else {\n",
    "        fallos=fallos+1\n",
    "    }\n",
    "}"
   ]
  },
  {
   "cell_type": "code",
   "execution_count": 16,
   "id": "aadc962d",
   "metadata": {},
   "outputs": [
    {
     "name": "stdout",
     "output_type": "stream",
     "text": [
      "[1] 116\n"
     ]
    }
   ],
   "source": [
    "print(aciertos)"
   ]
  },
  {
   "cell_type": "code",
   "execution_count": 17,
   "id": "93756952",
   "metadata": {},
   "outputs": [
    {
     "name": "stdout",
     "output_type": "stream",
     "text": [
      "[1] 4\n"
     ]
    }
   ],
   "source": [
    "print(fallos)"
   ]
  },
  {
   "cell_type": "code",
   "execution_count": 18,
   "id": "d8a0907b",
   "metadata": {},
   "outputs": [],
   "source": [
    "aciertos= 0\n",
    "fallos= 0\n",
    "for (i in 1:nrow(test.data)){\n",
    "    test <- as.numeric(test.data[i,1:3]) \n",
    "    resp=clasifica(test,lista_clases,covar)\n",
    "    if(test.data[i,5]=='setosa'){\n",
    "        aux=1\n",
    "    }\n",
    "    if(test.data[i,5]=='versicolor'){\n",
    "        aux=2\n",
    "    }\n",
    "    if(test.data[i,5]=='virginica'){\n",
    "        aux=3\n",
    "    }\n",
    "    if(resp==aux){\n",
    "        aciertos= aciertos+1\n",
    "    }\n",
    "    else {\n",
    "        fallos=fallos+1\n",
    "    }\n",
    "}"
   ]
  },
  {
   "cell_type": "code",
   "execution_count": 19,
   "id": "ddd7b339",
   "metadata": {},
   "outputs": [
    {
     "data": {
      "text/html": [
       "28"
      ],
      "text/latex": [
       "28"
      ],
      "text/markdown": [
       "28"
      ],
      "text/plain": [
       "[1] 28"
      ]
     },
     "metadata": {},
     "output_type": "display_data"
    }
   ],
   "source": [
    "aciertos"
   ]
  },
  {
   "cell_type": "code",
   "execution_count": 20,
   "id": "004fa2b9",
   "metadata": {},
   "outputs": [
    {
     "data": {
      "text/html": [
       "2"
      ],
      "text/latex": [
       "2"
      ],
      "text/markdown": [
       "2"
      ],
      "text/plain": [
       "[1] 2"
      ]
     },
     "metadata": {},
     "output_type": "display_data"
    }
   ],
   "source": [
    "fallos"
   ]
  },
  {
   "cell_type": "code",
   "execution_count": null,
   "id": "daba554c",
   "metadata": {},
   "outputs": [],
   "source": [
    "#Con menos variables hay ligeramente peores resultados, esto dado a que se cuenta con menos información."
   ]
  }
 ],
 "metadata": {
  "kernelspec": {
   "display_name": "R",
   "language": "R",
   "name": "ir"
  },
  "language_info": {
   "codemirror_mode": "r",
   "file_extension": ".r",
   "mimetype": "text/x-r-source",
   "name": "R",
   "pygments_lexer": "r",
   "version": "3.6.1"
  }
 },
 "nbformat": 4,
 "nbformat_minor": 5
}
